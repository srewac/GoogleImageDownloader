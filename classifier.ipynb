{
 "cells": [
  {
   "cell_type": "code",
   "execution_count": null,
   "metadata": {},
   "outputs": [],
   "source": [
    "import matplotlib.pyplot as plt\n",
    "import tensorflow as tf\n",
    "import numpy as np\n",
    "import time\n",
    "import os\n",
    "import glob\n",
    "from skimage import io, transform\n",
    "\n",
    "from sklearn import tree\n",
    "from sklearn.svm import SVC\n",
    "from sklearn.linear_model import LinearRegression\n",
    "from sklearn.ensemble import RandomForestClassifier\n",
    "\n",
    "learn = tf.contrib.learn"
   ]
  },
  {
   "cell_type": "code",
   "execution_count": null,
   "metadata": {},
   "outputs": [],
   "source": [
    "path = './data/data/'\n",
    "w = 512\n",
    "h = 512\n",
    "c = 3"
   ]
  },
  {
   "cell_type": "code",
   "execution_count": null,
   "metadata": {},
   "outputs": [],
   "source": [
    "def read_img(path):\n",
    "    cate = [path + x for x in os.listdir(path) if os.path.isdir(path + x)]\n",
    "    imgs = []\n",
    "    cls = []\n",
    "    labels = []\n",
    "    \n",
    "    classname = [x for x in os.listdir(path) if os.path.isdir(path + x)]\n",
    "    \n",
    "    for idx, folder in enumerate(cate):\n",
    "        for im in glob.glob(folder + '/*.jpg'):\n",
    "            print('reading the images:%s' % (im))\n",
    "            single_label = [0 for x in range(8)]\n",
    "            single_label[idx] = 1;\n",
    "            img = io.imread(im)\n",
    "            img = transform.resize(img, (w, h, c))\n",
    "            featurevector = img.flatten()\n",
    "            imgs.append(featurevector)\n",
    "            cls.append(idx)\n",
    "            labels.append(single_label)\n",
    "    return np.asarray(imgs, np.float32), np.asarray(cls, np.int32), classname, np.asarray(labels, np.int32)"
   ]
  },
  {
   "cell_type": "code",
   "execution_count": null,
   "metadata": {},
   "outputs": [
    {
     "ename": "NameError",
     "evalue": "name 'read_img' is not defined",
     "traceback": [
      "\u001b[0;31m---------------------------------------------------------------------------\u001b[0m",
      "\u001b[0;31mNameError\u001b[0m                                 Traceback (most recent call last)",
      "\u001b[0;32m<ipython-input-1-c3527a3d3e7b>\u001b[0m in \u001b[0;36m<module>\u001b[0;34m()\u001b[0m\n\u001b[0;32m----> 1\u001b[0;31m \u001b[0mdata\u001b[0m\u001b[0;34m,\u001b[0m \u001b[0mcls\u001b[0m\u001b[0;34m,\u001b[0m\u001b[0mclassnames\u001b[0m\u001b[0;34m,\u001b[0m\u001b[0mlabels\u001b[0m \u001b[0;34m=\u001b[0m \u001b[0mread_img\u001b[0m\u001b[0;34m(\u001b[0m\u001b[0mpath\u001b[0m\u001b[0;34m)\u001b[0m\u001b[0;34m\u001b[0m\u001b[0m\n\u001b[0m",
      "\u001b[0;31mNameError\u001b[0m: name 'read_img' is not defined"
     ],
     "output_type": "error"
    }
   ],
   "source": [
    "data, cls,classnames,labels = read_img(path)"
   ]
  },
  {
   "cell_type": "code",
   "execution_count": 5,
   "metadata": {},
   "outputs": [],
   "source": [
    "num_example = data.shape[0]\n",
    "arr = np.arange(num_example)\n",
    "np.random.shuffle(arr)\n",
    "data = data[arr]\n",
    "cls = cls[arr]\n",
    "labels=labels[arr]"
   ]
  },
  {
   "cell_type": "code",
   "execution_count": null,
   "metadata": {},
   "outputs": [],
   "source": [
    "ratio = 0.8\n",
    "s = np.int(num_example * ratio)\n",
    "images_train = data[:s]\n",
    "images_test = data[s:]\n",
    "cls_train = cls[:s]\n",
    "cls_test = cls[s:]\n",
    "labels_train = labels[:s]\n",
    "labels_test = labels[s:]\n",
    "\n",
    "num_classes = 8"
   ]
  },
  {
   "cell_type": "code",
   "execution_count": null,
   "metadata": {},
   "outputs": [
    {
     "name": "stdout",
     "output_type": "stream",
     "text": [
      "Size of:\n",
      "- Training-set:\t\t3816\n",
      "- Test-set:\t\t955\n"
     ]
    }
   ],
   "source": [
    "print(\"Size of:\")\n",
    "print(\"- Training-set:\\t\\t{}\".format(len(images_train)))\n",
    "print(\"- Test-set:\\t\\t{}\".format(len(images_test)))"
   ]
  },
  {
   "cell_type": "code",
   "execution_count": null,
   "metadata": {},
   "outputs": [],
   "source": [
    "ESTIMATORS = {\n",
    "    \"Linear regression\": LinearRegression(),\n",
    "    \"SVC\": SVC(),\n",
    "    \"Random Forest\": RandomForestClassifier(),\n",
    "    \"Decision Tree\": tree.DecisionTreeClassifier(),\n",
    "}"
   ]
  },
  {
   "cell_type": "code",
   "execution_count": null,
   "metadata": {},
   "outputs": [
    {
     "name": "stdout",
     "output_type": "stream",
     "text": [
      "estimator: Linear regression fit start\n",
      "estimator: Linear regression fit complete\n",
      "predict_complete: Linear regression\n",
      "estimator: SVC fit start\n"
     ]
    }
   ],
   "source": [
    "cls_test_predict = dict()\n",
    "for name, estimator in ESTIMATORS.items():\n",
    "    print(\"estimator: {} fit start\".format(name))\n",
    "    estimator.fit(images_train, cls_train)\n",
    "    print(\"estimator: {} fit complete\".format(name))\n",
    "    cls_test_predict[name] = estimator.predict(images_test)\n",
    "    print(\"predict_complete: {}\".format(name))"
   ]
  },
  {
   "cell_type": "code",
   "execution_count": null,
   "metadata": {},
   "outputs": [],
   "source": [
    "def predict_cls(cls_true,cls_predict):\n",
    "    correct = (cls_true==cls_pred)\n",
    "    return correct.mean()"
   ]
  },
  {
   "cell_type": "code",
   "execution_count": null,
   "metadata": {},
   "outputs": [],
   "source": [
    "for name in ESTIMATORS.items():\n",
    "    predict = predict_cls(cls_test,cls_test_predict[name])\n",
    "    print(\"{0}: {1:.1%}\".format(name,predict)"
   ]
  },
  {
   "cell_type": "code",
   "execution_count": null,
   "metadata": {},
   "outputs": [],
   "source": []
  }
 ],
 "metadata": {
  "kernelspec": {
   "display_name": "Python 3",
   "language": "python",
   "name": "python3"
  },
  "language_info": {
   "codemirror_mode": {
    "name": "ipython",
    "version": 3
   },
   "file_extension": ".py",
   "mimetype": "text/x-python",
   "name": "python",
   "nbconvert_exporter": "python",
   "pygments_lexer": "ipython3",
   "version": "3.6.4"
  }
 },
 "nbformat": 4,
 "nbformat_minor": 1
}
